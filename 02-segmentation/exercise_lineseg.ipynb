{
 "cells": [
  {
   "cell_type": "markdown",
   "id": "94c7e42a",
   "metadata": {},
   "source": [
    "<img style=\"float: right;\" src=\"../htwlogo.jpg\">\n",
    "\n",
    "# Exercise: line segmentation and measuring\n",
    "\n",
    "**Author**: _Erik Rodner_<br>\n",
    "**Lecture**: Computer Vision and Machine Learning I\n",
    "\n",
    "In the following exercise, you need to segment a gray rectangle on top of a black background. Sounds simple? You also need\n",
    "to measure the rectangle and determine:\n",
    "\n",
    "1. width and height of the rectangle (not the extent in x and y)\n",
    "2. the orientation of the rectangle, since it is rotated\n",
    "\n",
    "Both measurements are not uniquely defined, since we could exchange width and height and furthermore\n",
    "could determine several angles that transform the rectangle to an axis-parallel one.\n",
    "\n",
    "Therefore, we make the following conventions:\n",
    "1. Write a function that provides width and height as $[w,h]$, where $w<h$. In practise, you can thus provide a sorted list of the two lengths.\n",
    "2. Write a function that determines the **smallest** absolute angle between one of the rectangle sides and the standard image axes. "
   ]
  },
  {
   "cell_type": "code",
   "execution_count": null,
   "id": "85f8219f",
   "metadata": {},
   "outputs": [],
   "source": [
    "import numpy as np\n",
    "\n",
    "import matplotlib.pylab as plt\n",
    "from skimage import feature\n",
    "from skimage.transform import hough_line, hough_line_peaks\n",
    "\n",
    "import sys\n",
    "from os.path import join as pjoin\n",
    "sys.path.append(pjoin(\"..\", \"utils\"))\n",
    "from shapegen import *"
   ]
  },
  {
   "cell_type": "markdown",
   "id": "4f2cb4b9",
   "metadata": {},
   "source": [
    "### Rectangle generation\n",
    "\n",
    "Similar to previous exercises, a function is provided that gives you random test examples."
   ]
  },
  {
   "cell_type": "code",
   "execution_count": null,
   "id": "8d7c283a",
   "metadata": {},
   "outputs": [],
   "source": [
    "img = rect_image()\n",
    "plt.imshow(img, cmap=plt.cm.gray)\n",
    "plt.colorbar()"
   ]
  },
  {
   "cell_type": "markdown",
   "id": "63504673",
   "metadata": {},
   "source": [
    "### The function you need to write\n",
    "\n",
    "This function should return $[w, h], \\theta$ with $w < h$ and $\\theta$ being the smallest absolute angle between any of the rectangle sides and any of the image axes ($x$, $y$)."
   ]
  },
  {
   "cell_type": "code",
   "execution_count": null,
   "id": "fa9b8e64",
   "metadata": {},
   "outputs": [],
   "source": [
    "def determine_lengths_and_orientation(img, display=False):\n",
    "    \"\"\" This function computes rectangle orientation and size \"\"\"\n",
    "    len_sorted = [0, 1] # list with two elements!\n",
    "    orientation = np.pi/4.0 # the angle needs to be in radiant\n",
    "        \n",
    "    return len_sorted, orientation"
   ]
  },
  {
   "cell_type": "markdown",
   "id": "da6ead2e",
   "metadata": {},
   "source": [
    "### Quantitatively testing the function\n",
    "\n",
    "Let's test the image processing function with multiple images. The function ``test_algorithm`` provides you with a simple test loop. You can just provides your function as the first parameter and the number of test images as the second one. In the end you get some statistics.\n",
    "\n",
    "This is an example output of my solution:\n",
    "\n",
    "```\n",
    "0: 124 x 114 0.14523067323276823\n",
    "0= 114.07867494824006 x 124.0855762594893 0.14918177405314648\n",
    "1: 95 x 178 -0.22230616567385753\n",
    "1= 95.0655624568667 x 178.12284334023468 -0.2193849618428627\n",
    "2: 182 x 179 0.3921687965438458\n",
    "2= 176.12146307798486 x 179.12353347135945 0.39489293131715275\n",
    "3: 205 x 133 -0.5818507350383152\n",
    "3= 134.09247757073842 x 205.14147688060734 -0.5879516977388719\n",
    "4: 222 x 105 -0.528516757013509\n",
    "4= 105.072463768116 x 222.15320910973082 -0.535299306896585\n",
    "Orientation angle error min: 0.002724134773306963\n",
    "Orientation angle error max: 0.006782549883076028\n",
    "Orientation angle error mean: 0.004495990401662553\n",
    "Length error min: 0.11624561784754232\n",
    "Length error max: 4.069402229049597\n",
    "Length error mean: 1.119194756273445\n",
    "```"
   ]
  },
  {
   "cell_type": "code",
   "execution_count": null,
   "id": "3bf96754",
   "metadata": {},
   "outputs": [],
   "source": [
    "test_algorithm(determine_lengths_and_orientation, 5)"
   ]
  },
  {
   "cell_type": "code",
   "execution_count": null,
   "id": "5be13dc6",
   "metadata": {},
   "outputs": [],
   "source": []
  }
 ],
 "metadata": {
  "kernelspec": {
   "display_name": "Python 3",
   "language": "python",
   "name": "python3"
  },
  "language_info": {
   "codemirror_mode": {
    "name": "ipython",
    "version": 3
   },
   "file_extension": ".py",
   "mimetype": "text/x-python",
   "name": "python",
   "nbconvert_exporter": "python",
   "pygments_lexer": "ipython3",
   "version": "3.8.0"
  }
 },
 "nbformat": 4,
 "nbformat_minor": 5
}

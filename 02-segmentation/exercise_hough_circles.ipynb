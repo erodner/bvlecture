{
 "cells": [
  {
   "cell_type": "markdown",
   "id": "aa9deb94",
   "metadata": {},
   "source": [
    "<img style=\"float: right;\" src=\"../htwlogo.jpg\">\n",
    "\n",
    "# Hough transformation for circles\n",
    "\n",
    "**Author**: _Erik Rodner_<br>\n",
    "**Lecture**: Computer Vision and Machine Learning I\n",
    "\n",
    "Hough transformation can not be only used for lines but especially also for circles.\n",
    "Your goal in this exercise is to find the errors in the notebook.\n",
    "\n",
    "**Hints for the errors**\n",
    "1. Edge detection in the beginning does not look perfect, can you spot why?\n",
    "2. You need to adjust multiple parameters of the algorithm.\n",
    "3. There is a missing line of code to convert circle parameters"
   ]
  },
  {
   "cell_type": "code",
   "execution_count": null,
   "id": "af393625",
   "metadata": {},
   "outputs": [],
   "source": [
    "# import our usual friends\n",
    "from skimage.io import imread, imsave\n",
    "import matplotlib.pylab as plt\n",
    "import numpy as np\n",
    "import skimage.data as examples\n",
    "from skimage.color import rgb2gray\n",
    "from skimage import feature, draw"
   ]
  },
  {
   "cell_type": "markdown",
   "id": "5dae827e",
   "metadata": {},
   "source": [
    "### Finding edges in a proper example\n",
    "\n",
    "The coin image in scikit-learn is of course perfect for circle estimation. For finding edge candidates, we use a Canny filter first."
   ]
  },
  {
   "cell_type": "code",
   "execution_count": null,
   "id": "f2baf690",
   "metadata": {},
   "outputs": [],
   "source": [
    "img = examples.coins()\n",
    "edges = feature.canny(img, sigma=3, low_threshold=100, high_threshold=150)\n",
    "\n",
    "plt.figure(figsize=(15,5))\n",
    "plt.subplot(1,2,1)\n",
    "plt.imshow(img, cmap=plt.cm.gray)\n",
    "plt.subplot(1,2,2)\n",
    "plt.imshow(edges, cmap=plt.cm.gray)\n"
   ]
  },
  {
   "cell_type": "markdown",
   "id": "7a258542",
   "metadata": {},
   "source": [
    "### Filling the hough accumulator\n",
    "\n",
    "In contrast to lines, a circle has 3 parameters in 2D:\n",
    "* $mx$ - x coordinate of the center point\n",
    "* $my$ - y coordinate of the center point\n",
    "* $r$ - radius of the circle\n",
    "\n",
    "Therefore, our hough accumulator needs to be a 3-dimensional tensor. This might sound scary, but you can view it as multiple 2D center point hough accumulators - one for each radius. To reduce the size of the tensor, we need to limit\n",
    "the possible radii of the circles we are looking for, which is done with ```radius_min``` and ```radius_max``` in the following code.\n",
    "\n",
    "*Please note that there are versions that allow using 2D hough accumulators only by first finding suitable center points and afterwards determining the radius*"
   ]
  },
  {
   "cell_type": "code",
   "execution_count": null,
   "id": "c99a9ed2",
   "metadata": {},
   "outputs": [],
   "source": [
    "h, w = edges.shape\n",
    "radius_min = 20\n",
    "radius_max = 40\n",
    "radius_range = np.arange(radius_min, radius_max)\n",
    "hough_accu = np.zeros((h, w, len(radius_range)))"
   ]
  },
  {
   "cell_type": "markdown",
   "id": "874ceea1",
   "metadata": {},
   "source": [
    "Similar to finding lines with the standard hough transform, we need to go to each edge candidate (first two outer loops) $(y,x)$. The question then is: to which circles defined by $(my, mx, r)$ can the pixel $(y,x)$ belong to? Theoretically it could belong to any possible radius $r$, therefore, we need to loop through all of them. Given a radius $r$, the possible center points of the circles all lie on one circle around $(y,x)$. This allows us to use a simple circle draw function for incrementing the hough accumulator."
   ]
  },
  {
   "cell_type": "code",
   "execution_count": null,
   "id": "12d8b58d",
   "metadata": {},
   "outputs": [],
   "source": [
    "for y in range(edges.shape[0]):\n",
    "    for x in range(edges.shape[1]):\n",
    "        # only use edge candidates\n",
    "        if edges[y,x]:\n",
    "            # go through all radii\n",
    "            for ir, r in enumerate(radius_range):\n",
    "                yy, xx = draw.circle_perimeter(y, x, radius=r, shape=edges.shape)\n",
    "                hough_accu[yy, xx, ir] += 1"
   ]
  },
  {
   "cell_type": "markdown",
   "id": "29c69d64",
   "metadata": {},
   "source": [
    "### Finding peaks in the accumulator with NMS\n",
    "\n",
    "Now, let's find peaks in the accumulator. This sounds rather easy, but we will apply\n",
    "non-maximum suppression to avoid finding maximas next to each other (similar circle parameters).\n",
    "First, we define the maximum number of circles to extract and we define a utility function for 2D maximum determination:"
   ]
  },
  {
   "cell_type": "code",
   "execution_count": null,
   "id": "d42db2d3",
   "metadata": {},
   "outputs": [],
   "source": [
    "num_circles = 24"
   ]
  },
  {
   "cell_type": "code",
   "execution_count": null,
   "id": "04ab8be6",
   "metadata": {},
   "outputs": [],
   "source": [
    "def get_maximum_point(Z):\n",
    "    \"\"\" utility function for getting a maximum position in 2D \"\"\"\n",
    "    return np.array(np.unravel_index(np.argmax(Z, axis=None), Z.shape))"
   ]
  },
  {
   "cell_type": "markdown",
   "id": "7289294f",
   "metadata": {},
   "source": [
    "Non-maximum suppression will be based on setting all values within a given neighbourhood\n",
    "around the maximum to zero. There are better ways to do it - any ideas?"
   ]
  },
  {
   "cell_type": "code",
   "execution_count": null,
   "id": "d6885c57",
   "metadata": {},
   "outputs": [],
   "source": [
    "def suppress_point(Z, p, non_maximum_suppression_radius = (2,2,2)): \n",
    "    \"\"\" suppress a region around a point p in array Z \"\"\"\n",
    "    start = p - non_maximum_suppression_radius\n",
    "    end = p + non_maximum_suppression_radius\n",
    "    ry, rx, rr = draw.rectangle(start, end, shape=Z.shape)\n",
    "    Z[ry, rx, rr] = 0\n",
    "    return Z"
   ]
  },
  {
   "cell_type": "markdown",
   "id": "0ad99a90",
   "metadata": {},
   "source": [
    "Extract some local maxima always applying NMS afterwards:"
   ]
  },
  {
   "cell_type": "code",
   "execution_count": null,
   "id": "324edcac",
   "metadata": {},
   "outputs": [],
   "source": [
    "h_maxima = np.zeros((num_circles, 3))\n",
    "for i in range(num_circles):\n",
    "    p = get_maximum_point(hough_accu)\n",
    "    print (f\"voting: {hough_accu[p[0], p[1], p[2]]}\")\n",
    "    hough_accu = suppress_point(hough_accu, p)\n",
    "    h_maxima[i,:] = p"
   ]
  },
  {
   "cell_type": "markdown",
   "id": "c7b08688",
   "metadata": {},
   "source": [
    "### Final visualization"
   ]
  },
  {
   "cell_type": "markdown",
   "id": "b39712f7",
   "metadata": {},
   "source": [
    "In the end your result should look like this:\n",
    "<img src=\"hough_circle_result.png\">\n",
    "\n",
    "All borders of the coins should be detected and maybe you can even achieve a better accuracy with your code!"
   ]
  },
  {
   "cell_type": "code",
   "execution_count": null,
   "id": "667515dd",
   "metadata": {},
   "outputs": [],
   "source": [
    "plt.imshow(img, cmap=plt.cm.gray)\n",
    "for i in range(h_maxima.shape[0]):\n",
    "    circle = plt.Circle((h_maxima[i,1], h_maxima[i,0]), h_maxima[i,2], color=\"blue\", fill=False, linewidth=3)\n",
    "    plt.gca().add_patch(circle)\n",
    "plt.show()"
   ]
  },
  {
   "cell_type": "code",
   "execution_count": null,
   "id": "f5bf91a7",
   "metadata": {},
   "outputs": [],
   "source": []
  }
 ],
 "metadata": {
  "kernelspec": {
   "display_name": "Python 3",
   "language": "python",
   "name": "python3"
  },
  "language_info": {
   "codemirror_mode": {
    "name": "ipython",
    "version": 3
   },
   "file_extension": ".py",
   "mimetype": "text/x-python",
   "name": "python",
   "nbconvert_exporter": "python",
   "pygments_lexer": "ipython3",
   "version": "3.8.0"
  }
 },
 "nbformat": 4,
 "nbformat_minor": 5
}

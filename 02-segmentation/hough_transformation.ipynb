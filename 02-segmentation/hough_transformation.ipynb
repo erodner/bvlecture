{
 "cells": [
  {
   "cell_type": "markdown",
   "id": "de2ec823",
   "metadata": {},
   "source": [
    "<img style=\"float: right;\" src=\"../htwlogo.jpg\">\n",
    "\n",
    "# Hough transformation\n",
    "\n",
    "**Author**: _Erik Rodner_<br>\n",
    "**Lecture**: Computer Vision and Machine Learning I\n",
    "\n",
    "Hough transformation is a fundamental technique for detecting lines as well as circles in images."
   ]
  },
  {
   "cell_type": "code",
   "execution_count": null,
   "id": "e3005255",
   "metadata": {},
   "outputs": [],
   "source": [
    "# import our usual friends\n",
    "from skimage.io import imread, imsave\n",
    "import matplotlib.pylab as plt\n",
    "import numpy as np\n",
    "import skimage.data as examples\n",
    "from skimage.color import rgb2gray\n",
    "from skimage import feature\n",
    "from skimage.transform import hough_line, hough_line_peaks\n",
    "from skimage.draw import line\n",
    "\n",
    "# some code that allows us to find the simulation code\n",
    "import sys\n",
    "import os\n",
    "sys.path.append(os.path.join(\"..\", \"utils\"))"
   ]
  },
  {
   "cell_type": "markdown",
   "id": "455456f5",
   "metadata": {},
   "source": [
    "## Getting edge pixels\n",
    "\n",
    "Let's simply detect edge pixel candidates by using the Canny detector first"
   ]
  },
  {
   "cell_type": "code",
   "execution_count": null,
   "id": "63ac85c1",
   "metadata": {},
   "outputs": [],
   "source": [
    "# Constructing test image\n",
    "edges = np.zeros((200, 200))\n",
    "idx = np.arange(25, 175)\n",
    "edges[idx, idx] = 255\n",
    "edges[line(45, 25, 25, 175)] = 255\n",
    "edges[line(25, 135, 175, 155)] = 255\n",
    "img = edges"
   ]
  },
  {
   "cell_type": "code",
   "execution_count": null,
   "id": "866b5f9c",
   "metadata": {},
   "outputs": [],
   "source": [
    "# alternative test image\n",
    "img = examples.checkerboard()\n",
    "# another alternative test image\n",
    "img = examples.brick()\n",
    "edges = feature.canny(img, sigma=3)"
   ]
  },
  {
   "cell_type": "code",
   "execution_count": null,
   "id": "04f16eed",
   "metadata": {},
   "outputs": [],
   "source": [
    "plt.figure(figsize=(15,5))\n",
    "plt.subplot(1,2,1)\n",
    "plt.imshow(img, cmap=plt.cm.gray)\n",
    "plt.title(\"edge points\")\n",
    "plt.subplot(1,2,2)\n",
    "plt.imshow(edges, cmap=plt.cm.gray)\n",
    "plt.title(\"input image\")\n",
    "plt.colorbar()"
   ]
  },
  {
   "cell_type": "markdown",
   "id": "797b6b0b",
   "metadata": {},
   "source": [
    "### Hough transformation\n",
    "\n",
    "Let us first compute the hough space."
   ]
  },
  {
   "cell_type": "code",
   "execution_count": null,
   "id": "2abacfbc",
   "metadata": {},
   "outputs": [],
   "source": [
    "h_accu, angles, distances = hough_line(edges)"
   ]
  },
  {
   "cell_type": "code",
   "execution_count": null,
   "id": "82a41a38",
   "metadata": {},
   "outputs": [],
   "source": [
    "# the following is just for showing proper\n",
    "# axes labels for the hough accumulation array\n",
    "# you can ignore this, since it is not relevant for understanding\n",
    "# hough transformations\n",
    "\n",
    "angle_step = 0.5 * np.rad2deg(np.diff(angles).mean())\n",
    "d_step = 0.5 * np.diff(distances).mean()\n",
    "bounds = (np.rad2deg(angles[0]) - angle_step,\n",
    "          np.rad2deg(angles[-1]) + angle_step,\n",
    "          distances[-1] + d_step, distances[0] - d_step)"
   ]
  },
  {
   "cell_type": "markdown",
   "id": "8ffc0a04",
   "metadata": {},
   "source": [
    "Let us now find the local peaks in the hough space. The function ```hough_line_peaks``` has quite a lot of parameters to control non-maximum suppression etc."
   ]
  },
  {
   "cell_type": "code",
   "execution_count": null,
   "id": "65d4fcc1",
   "metadata": {},
   "outputs": [],
   "source": [
    "p_h_accu, p_angles, p_distances = hough_line_peaks(h_accu, angles, distances, num_peaks=10)"
   ]
  },
  {
   "cell_type": "code",
   "execution_count": null,
   "id": "c0f47d02",
   "metadata": {},
   "outputs": [],
   "source": [
    "fig, axes = plt.subplots(1,2, figsize=(13,5))\n",
    "ax = axes.ravel()\n",
    "\n",
    "ax[0].imshow(h_accu, extent=bounds, aspect=.1)\n",
    "ax[0].set_xlabel('Angle (degree)')\n",
    "ax[0].set_ylabel('Distance (pixel)')\n",
    "\n",
    "# Show the image and visualize the lines\n",
    "ax[1].imshow(img, cmap=plt.cm.gray)\n",
    "for angle, dist in zip(p_angles, p_distances):\n",
    "    (x0, y0) = dist * np.array([np.cos(angle), np.sin(angle)])\n",
    "    ax[1].axline((x0, y0), slope=np.tan(angle + np.pi/2))\n",
    "ax[1].set_axis_off()\n",
    "plt.show()"
   ]
  },
  {
   "cell_type": "code",
   "execution_count": null,
   "id": "74f7af79",
   "metadata": {},
   "outputs": [],
   "source": []
  }
 ],
 "metadata": {
  "kernelspec": {
   "display_name": "Python 3",
   "language": "python",
   "name": "python3"
  },
  "language_info": {
   "codemirror_mode": {
    "name": "ipython",
    "version": 3
   },
   "file_extension": ".py",
   "mimetype": "text/x-python",
   "name": "python",
   "nbconvert_exporter": "python",
   "pygments_lexer": "ipython3",
   "version": "3.8.0"
  }
 },
 "nbformat": 4,
 "nbformat_minor": 5
}

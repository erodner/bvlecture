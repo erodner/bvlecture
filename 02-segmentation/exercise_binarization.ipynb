{
 "cells": [
  {
   "cell_type": "markdown",
   "id": "19613819",
   "metadata": {},
   "source": [
    "<img style=\"float: right;\" src=\"../htwlogo.jpg\">\n",
    "\n",
    "# Exercise: binarization\n",
    "\n",
    "**Author**: _Erik Rodner_<br>\n",
    "**Lecture**: Computer Vision and Machine Learning I\n",
    "\n",
    "Binarization is a fundamental technique for segmentation. In the following exercise, you will need to implement a binarization and connected component analysis from scratch."
   ]
  },
  {
   "cell_type": "code",
   "execution_count": null,
   "id": "f5acf7ca",
   "metadata": {},
   "outputs": [],
   "source": [
    "# import our usual friends\n",
    "from skimage.io import imread, imsave\n",
    "import matplotlib.pylab as plt\n",
    "import numpy as np\n",
    "import skimage.data as examples\n",
    "from skimage.color import rgb2gray\n",
    "\n",
    "# some code that allows us to find the simulation code\n",
    "import sys\n",
    "import os\n",
    "sys.path.append(os.path.join(\"..\", \"utils\"))\n",
    "\n",
    "from shapegen import generate_example"
   ]
  },
  {
   "cell_type": "markdown",
   "id": "8101713f",
   "metadata": {},
   "source": [
    "### The dataset\n",
    "\n",
    "I've created a dataset for you, based on some rather simple simulation code. Your goal will be to count the red and the blue circles in the image - sounds simple :)\n",
    "\n",
    "The function ```generate_example``` gives you with each call a new image. Your code should work for (nearly) all the images that this function provides you with."
   ]
  },
  {
   "cell_type": "code",
   "execution_count": null,
   "id": "ad0546c1",
   "metadata": {},
   "outputs": [],
   "source": [
    "plt.figure(figsize=(15,15))\n",
    "for i in range(9):\n",
    "    img = generate_example()\n",
    "    plt.subplot(3,3,i+1)\n",
    "    #plt.imshow(img[:,:,2], cmap=plt.cm.gray)\n",
    "    plt.imshow(img)"
   ]
  },
  {
   "cell_type": "code",
   "execution_count": null,
   "id": "2231c3eb",
   "metadata": {},
   "outputs": [],
   "source": [
    "img = generate_example()"
   ]
  },
  {
   "cell_type": "code",
   "execution_count": null,
   "id": "7adb92e8",
   "metadata": {},
   "outputs": [],
   "source": [
    "def plot_channel_hist(img, c):\n",
    "    plt.hist(img[:,:,c].ravel(), bins=256, range=(0, 255))\n",
    "    plt.title(f\"Channel {c}\")\n",
    "    \n",
    "plt.figure(figsize=(17,5))\n",
    "plt.subplot(1,4,1)\n",
    "plt.imshow(img)\n",
    "for c in range(3):\n",
    "    plt.subplot(1,4,c+2)\n",
    "    plot_channel_hist(img, c)\n",
    "plt.show()    "
   ]
  },
  {
   "cell_type": "code",
   "execution_count": null,
   "id": "5903e924",
   "metadata": {},
   "outputs": [],
   "source": [
    "b_channel = img[:,:,2]\n",
    "plt.imshow(b_channel>170)"
   ]
  },
  {
   "cell_type": "markdown",
   "id": "dbfa6f2b",
   "metadata": {},
   "source": [
    "## Part 1: Write a binarization routine\n",
    "\n",
    "Following the algorithm outlined in the lecture, write a binarization algorithm to determine a threshold for the red and the blue channel."
   ]
  },
  {
   "cell_type": "markdown",
   "id": "ca22523e",
   "metadata": {},
   "source": [
    "## Part 2: Connected component analysis\n",
    "\n",
    "In the lecture, we discussed connected component analysis and how to apply it to an image. Implement the two-pass algorithm and count the resulting components"
   ]
  },
  {
   "cell_type": "markdown",
   "id": "38b9fcd8",
   "metadata": {},
   "source": [
    "## Part 3: Now, you can use ```skimage``` routines for segmentation just for fun in the end"
   ]
  },
  {
   "cell_type": "code",
   "execution_count": null,
   "id": "2f635c9f",
   "metadata": {},
   "outputs": [],
   "source": []
  }
 ],
 "metadata": {
  "kernelspec": {
   "display_name": "Python 3",
   "language": "python",
   "name": "python3"
  },
  "language_info": {
   "codemirror_mode": {
    "name": "ipython",
    "version": 3
   },
   "file_extension": ".py",
   "mimetype": "text/x-python",
   "name": "python",
   "nbconvert_exporter": "python",
   "pygments_lexer": "ipython3",
   "version": "3.8.0"
  }
 },
 "nbformat": 4,
 "nbformat_minor": 5
}

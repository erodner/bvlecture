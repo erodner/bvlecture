{
 "cells": [
  {
   "cell_type": "markdown",
   "id": "d7199445",
   "metadata": {},
   "source": [
    "<img style=\"float: right;\" src=\"../htwlogo.jpg\">\n",
    "\n",
    "# RANSAC line grouping\n",
    "\n",
    "**Author**: _Erik Rodner_<br>\n",
    "**Lecture**: Computer Vision and Machine Learning I\n",
    "\n",
    "In the following notebook, we will look at line grouping using random sample consensus (RANSAC)"
   ]
  },
  {
   "cell_type": "code",
   "execution_count": null,
   "id": "688e74e0",
   "metadata": {},
   "outputs": [],
   "source": [
    "# import our usual friends\n",
    "from skimage.io import imread, imsave\n",
    "import matplotlib.pylab as plt\n",
    "import numpy as np\n",
    "import skimage.data as examples\n",
    "from skimage.color import rgb2gray\n",
    "from skimage import feature"
   ]
  },
  {
   "cell_type": "markdown",
   "id": "309d99f7",
   "metadata": {},
   "source": [
    "## Getting edge pixels\n",
    "\n",
    "Let's simply detect edge pixel candidates by using the Canny detector first"
   ]
  },
  {
   "cell_type": "code",
   "execution_count": null,
   "id": "abae3378",
   "metadata": {},
   "outputs": [],
   "source": [
    "img = examples.brick()\n",
    "edges = feature.canny(img)\n",
    "\n",
    "plt.figure(figsize=(15,5))\n",
    "plt.subplot(1,2,1)\n",
    "plt.imshow(img, cmap=plt.cm.gray)\n",
    "plt.subplot(1,2,2)\n",
    "plt.imshow(edges, cmap=plt.cm.gray)\n"
   ]
  },
  {
   "cell_type": "markdown",
   "id": "82ed1dc4",
   "metadata": {},
   "source": [
    "### Applying RANSAC\n",
    "\n",
    "Let us first get all edge candidates as points in $(x,y)$"
   ]
  },
  {
   "cell_type": "code",
   "execution_count": null,
   "id": "e3b0bdb2",
   "metadata": {},
   "outputs": [],
   "source": [
    "A = np.array( [[False, True, False], [False, False, True]] )\n",
    "np.where(A)"
   ]
  },
  {
   "cell_type": "code",
   "execution_count": null,
   "id": "6f5d03a2",
   "metadata": {},
   "outputs": [],
   "source": [
    "edge_points_y, edge_points_x = np.where(edges)\n",
    "num_points = len(edge_points_x)\n",
    "print (f\"Number of points = {num_points}\")"
   ]
  },
  {
   "cell_type": "markdown",
   "id": "05083e09",
   "metadata": {},
   "source": [
    "Start with RANSAC using a specific number of subsets that we draw from the whole point set. We simply draw pairs of points and estimate the parameters of a straight line.\n",
    "\n",
    "The supporters are calculated by thresholding the distance to the line with ```eps```, i.e. all edge pixels that are less than ```eps``` pixels away from the line are calculated as supportive."
   ]
  },
  {
   "cell_type": "code",
   "execution_count": null,
   "id": "d3c39cc9",
   "metadata": {},
   "outputs": [],
   "source": [
    "plt.scatter?"
   ]
  },
  {
   "cell_type": "code",
   "execution_count": null,
   "id": "cdb40c1f",
   "metadata": {},
   "outputs": [],
   "source": [
    "num_subsets = 1000\n",
    "eps = 3\n",
    "lines = []\n",
    "\n",
    "for i in range(num_subsets):    \n",
    "    # draw a pair of points\n",
    "    anchors = np.random.randint(num_points, size=2)\n",
    "    y1, y2 = edge_points_y[anchors]\n",
    "    x1, x2 = edge_points_x[anchors]\n",
    "\n",
    "    # calculate the equation of the line\n",
    "    # in the form of a*x + b*y + c = 0\n",
    "    a = (y2-y1)\n",
    "    b = (x1-x2)\n",
    "    c = -(y2-y1)*x1 - (x1-x2)*y1\n",
    "    \n",
    "    # now we use the Hessesche Normalform to compute distances to all other edge pixels\n",
    "    norm = np.sqrt(a**2 + b**2)\n",
    "    if np.abs(norm)<1:\n",
    "        # equal points sampled\n",
    "        continue\n",
    "    \n",
    "    distances = np.abs(a*edge_points_x + b*edge_points_y + c)/norm\n",
    "    \n",
    "    # thresholding and counting gives us the number of supporters\n",
    "    supporters_indices = distances<eps\n",
    "    num_supporters = np.sum(supporters_indices)\n",
    "    \n",
    "    lines.append((-num_supporters, [x1, y1, x2, y2]))\n",
    "    \n",
    "    # showing examples that look promising\n",
    "    if num_supporters>520:\n",
    "        plt.figure()\n",
    "        plt.imshow(edges, cmap=plt.cm.gray)\n",
    "        plt.gca().axline((x1, y1), (x2, y2), color=\"red\")\n",
    "        # show all supporters of the line\n",
    "        plt.scatter(edge_points_x[supporters_indices], edge_points_y[supporters_indices], color=\"green\")\n",
    "        plt.scatter([x1, x2], [y1, y2], s=30, color=\"blue\")\n",
    "        plt.title(f\"Line with anchors and {num_supporters} supporters\")\n",
    "        plt.show()"
   ]
  },
  {
   "cell_type": "markdown",
   "id": "357cd1f5",
   "metadata": {},
   "source": [
    "### Visualizing the result\n",
    "\n",
    "Finally, we show the top ```num_lines``` lines with most supporters. Can we recognize what might be missing?"
   ]
  },
  {
   "cell_type": "code",
   "execution_count": null,
   "id": "5f565736",
   "metadata": {},
   "outputs": [],
   "source": [
    "lines = sorted(lines)\n",
    "num_lines = 20\n",
    "\n",
    "plt.figure(figsize=(10,10))\n",
    "plt.imshow(img, cmap=plt.cm.gray)\n",
    "for _, parameters in lines[:num_lines]:\n",
    "    \n",
    "    y = np.arange(img.shape[0])\n",
    "    x1, y1, x2, y2 = parameters\n",
    "    \n",
    "    plt.gca().axline((x1, y1), (x2, y2), color=\"red\")\n",
    "    \n",
    "plt.show()"
   ]
  },
  {
   "cell_type": "code",
   "execution_count": null,
   "id": "31687f85",
   "metadata": {},
   "outputs": [],
   "source": []
  }
 ],
 "metadata": {
  "kernelspec": {
   "display_name": "Python 3",
   "language": "python",
   "name": "python3"
  },
  "language_info": {
   "codemirror_mode": {
    "name": "ipython",
    "version": 3
   },
   "file_extension": ".py",
   "mimetype": "text/x-python",
   "name": "python",
   "nbconvert_exporter": "python",
   "pygments_lexer": "ipython3",
   "version": "3.8.0"
  }
 },
 "nbformat": 4,
 "nbformat_minor": 5
}

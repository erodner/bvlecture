{
 "cells": [
  {
   "cell_type": "markdown",
   "id": "338294c3",
   "metadata": {},
   "source": [
    "<img style=\"float: right;\" src=\"../bvlecture_exercises/htwlogo.jpg\">\n",
    "\n",
    "# Exercise: spam classification\n",
    "\n",
    "**Author**: _Erik Rodner_<br>\n",
    "**Lecture**: Computer Vision and Machine Learning I\n",
    "\n",
    "In the following exercise, you need to implement your first machine learning system: classical spam classification.\n",
    "We will use a dataset of SMS messages that have been tagged as either ``spam`` or ``ham`` (normal message).\n",
    "The dataset was used in the kaggle challenge https://www.kaggle.com/uciml/sms-spam-collection-dataset and is originally from http://www.dt.fee.unicamp.br/~tiago/smsspamcollection/."
   ]
  },
  {
   "cell_type": "code",
   "execution_count": 1,
   "id": "6aab97bb",
   "metadata": {},
   "outputs": [],
   "source": [
    "from io import BytesIO\n",
    "from urllib.request import urlopen\n",
    "from zipfile import ZipFile\n",
    "from os.path import isfile\n",
    "import pandas as pd\n",
    "from sklearn.feature_extraction.text import CountVectorizer\n",
    "from sklearn.model_selection import train_test_split\n",
    "from sklearn.metrics import confusion_matrix, ConfusionMatrixDisplay, classification_report\n",
    "import matplotlib.pylab as plt\n",
    "import numpy as np\n",
    "from scipy.sparse import find\n",
    "from sklearn import svm"
   ]
  },
  {
   "cell_type": "markdown",
   "id": "2a51e1ef",
   "metadata": {},
   "source": [
    "### Download and show the dataset\n",
    "\n",
    "The following code snipplet downloads the zip file and uncompresses it, such that you have the dataset on your jupyter notebook machine."
   ]
  },
  {
   "cell_type": "code",
   "execution_count": 2,
   "id": "9c4ce626",
   "metadata": {},
   "outputs": [],
   "source": [
    "if not isfile(\"SMSSpamCollection.txt\"):\n",
    "    print (\"Downloading dataset...\")\n",
    "    dataset_url = \"https://www.dt.fee.unicamp.br/~tiago/smsspamcollection/smsspamcollection.zip\"\n",
    "    with urlopen(dataset_url) as zipresp:\n",
    "        with ZipFile(BytesIO(zipresp.read())) as zfile:\n",
    "            zfile.extractall('.')"
   ]
  },
  {
   "cell_type": "markdown",
   "id": "021cfc9d",
   "metadata": {},
   "source": [
    "Pandas is a great tool for reading and managing tables."
   ]
  },
  {
   "cell_type": "code",
   "execution_count": 3,
   "id": "48f469ea",
   "metadata": {},
   "outputs": [
    {
     "data": {
      "text/html": [
       "<div>\n",
       "<style scoped>\n",
       "    .dataframe tbody tr th:only-of-type {\n",
       "        vertical-align: middle;\n",
       "    }\n",
       "\n",
       "    .dataframe tbody tr th {\n",
       "        vertical-align: top;\n",
       "    }\n",
       "\n",
       "    .dataframe thead th {\n",
       "        text-align: right;\n",
       "    }\n",
       "</style>\n",
       "<table border=\"1\" class=\"dataframe\">\n",
       "  <thead>\n",
       "    <tr style=\"text-align: right;\">\n",
       "      <th></th>\n",
       "      <th>label</th>\n",
       "      <th>sentence</th>\n",
       "    </tr>\n",
       "  </thead>\n",
       "  <tbody>\n",
       "    <tr>\n",
       "      <th>0</th>\n",
       "      <td>ham</td>\n",
       "      <td>Go until jurong point, crazy.. Available only ...</td>\n",
       "    </tr>\n",
       "    <tr>\n",
       "      <th>1</th>\n",
       "      <td>ham</td>\n",
       "      <td>Ok lar... Joking wif u oni...</td>\n",
       "    </tr>\n",
       "    <tr>\n",
       "      <th>2</th>\n",
       "      <td>spam</td>\n",
       "      <td>Free entry in 2 a wkly comp to win FA Cup fina...</td>\n",
       "    </tr>\n",
       "    <tr>\n",
       "      <th>3</th>\n",
       "      <td>ham</td>\n",
       "      <td>U dun say so early hor... U c already then say...</td>\n",
       "    </tr>\n",
       "    <tr>\n",
       "      <th>4</th>\n",
       "      <td>ham</td>\n",
       "      <td>Nah I don't think he goes to usf, he lives aro...</td>\n",
       "    </tr>\n",
       "  </tbody>\n",
       "</table>\n",
       "</div>"
      ],
      "text/plain": [
       "  label                                           sentence\n",
       "0   ham  Go until jurong point, crazy.. Available only ...\n",
       "1   ham                      Ok lar... Joking wif u oni...\n",
       "2  spam  Free entry in 2 a wkly comp to win FA Cup fina...\n",
       "3   ham  U dun say so early hor... U c already then say...\n",
       "4   ham  Nah I don't think he goes to usf, he lives aro..."
      ]
     },
     "execution_count": 3,
     "metadata": {},
     "output_type": "execute_result"
    }
   ],
   "source": [
    "df = pd.read_csv(\"SMSSpamCollection.txt\", delimiter=\"\\t\", names=[\"label\", \"sentence\"])\n",
    "df.head()"
   ]
  },
  {
   "cell_type": "markdown",
   "id": "a0a9c81a",
   "metadata": {},
   "source": [
    "### Splitting and inspecting the dataset\n",
    "\n",
    "We need to split the dataset into a training set and a test set.\n",
    "``scikit-learn`` provides multiple tools for this very first task in machine learning. The following line uses stratified sampling - can you guess why?"
   ]
  },
  {
   "cell_type": "code",
   "execution_count": 4,
   "id": "9a0c536a",
   "metadata": {},
   "outputs": [],
   "source": [
    "train_indices, test_indices = train_test_split(df.index, train_size=0.01, stratify=df[\"label\"], random_state=42)"
   ]
  },
  {
   "cell_type": "code",
   "execution_count": 5,
   "id": "42764905",
   "metadata": {},
   "outputs": [
    {
     "data": {
      "text/plain": [
       "Text(0.5, 1.0, 'test data')"
      ]
     },
     "execution_count": 5,
     "metadata": {},
     "output_type": "execute_result"
    },
    {
     "data": {
      "image/png": "[encoded data removed]",
      "text/plain": [
       "<Figure size 720x216 with 3 Axes>"
      ]
     },
     "metadata": {
      "needs_background": "light"
     },
     "output_type": "display_data"
    }
   ],
   "source": [
    "plt.figure(figsize=(10,3))\n",
    "plt.subplot(1,3,1)\n",
    "df[\"label\"].hist()\n",
    "plt.title(\"all data\")\n",
    "plt.subplot(1,3,2)\n",
    "df[\"label\"][train_indices].hist()\n",
    "plt.title(\"training data\")\n",
    "plt.subplot(1,3,3)\n",
    "df[\"label\"][test_indices].hist()\n",
    "plt.title(\"test data\")"
   ]
  },
  {
   "cell_type": "markdown",
   "id": "687e6c8f",
   "metadata": {},
   "source": [
    "### Converting text to vectors\n",
    "\n",
    "One way to deal with text is to convert it into proper vectors, but how?\n",
    "We use a bag-of-words feature extractor in the following. First it generates a vocabulary $V = \\{\\text{word}_1, \\text{word}_1, ..., \\text{word}_n \\}$ based on all training sentences (all words but without so called stop-words). Then, all words are counted in each sentence individually. A single feature $x_k$ in an example $\\mathbf{x}$ is then defined as the occurrences of the word $\\text{word}_k$ in the sentence. Can you spot any problems here?"
   ]
  },
  {
   "cell_type": "code",
   "execution_count": 6,
   "id": "4fbdc8a2",
   "metadata": {},
   "outputs": [
    {
     "data": {
      "text/plain": [
       "(55, 10)"
      ]
     },
     "execution_count": 6,
     "metadata": {},
     "output_type": "execute_result"
    }
   ],
   "source": [
    "from sklearn.feature_extraction.text import CountVectorizer\n",
    "count_vect = CountVectorizer(max_features=10)\n",
    "\n",
    "y_train = df[\"label\"][train_indices].array\n",
    "X_train_counts = count_vect.fit_transform(df[\"sentence\"][train_indices])\n",
    "\n",
    "feature_dim = X_train_counts.shape[1]\n",
    "X_train_counts.shape"
   ]
  },
  {
   "cell_type": "markdown",
   "id": "33c3780d",
   "metadata": {},
   "source": [
    "We remember which index corresponds to which word in the vocabulary:"
   ]
  },
  {
   "cell_type": "code",
   "execution_count": 7,
   "id": "0f8829da",
   "metadata": {},
   "outputs": [
    {
     "data": {
      "text/plain": [
       "'that'"
      ]
     },
     "execution_count": 7,
     "metadata": {},
     "output_type": "execute_result"
    }
   ],
   "source": [
    "index_to_word = {v: k for k, v in count_vect.vocabulary_.items()}\n",
    "index_to_word[feature_dim//2]"
   ]
  },
  {
   "cell_type": "code",
   "execution_count": 8,
   "id": "fccb32d5",
   "metadata": {},
   "outputs": [],
   "source": [
    "def visualize_example(x, title=\"\"):\n",
    "    \"\"\" Helper function for visualizing bag-of-word vectors \"\"\"\n",
    "    _, x_indices, x_values = find(x)\n",
    "    words = \",\".join( [index_to_word[i] for i in x_indices ])\n",
    "    if len(words)>20:\n",
    "        words = words[:20] + \"...\"\n",
    "    plt.figure(figsize=(10, 3))\n",
    "    plt.bar(x_indices, height=x_values, width=20.0)\n",
    "    plt.xlabel(\"indices of the vector, word index in vocabulary\")\n",
    "    plt.title(title + \"; \" + words)\n",
    "    plt.show()"
   ]
  },
  {
   "cell_type": "markdown",
   "id": "ce5f16ce",
   "metadata": {},
   "source": [
    "Let's inspect some examples:"
   ]
  },
  {
   "cell_type": "code",
   "execution_count": 9,
   "id": "79193f1e",
   "metadata": {},
   "outputs": [
    {
     "data": {
      "image/png": "[encoded data removed]",
      "text/plain": [
       "<Figure size 720x216 with 1 Axes>"
      ]
     },
     "metadata": {
      "needs_background": "light"
     },
     "output_type": "display_data"
    },
    {
     "data": {
      "image/png": "[encoded data removed]",
      "text/plain": [
       "<Figure size 720x216 with 1 Axes>"
      ]
     },
     "metadata": {
      "needs_background": "light"
     },
     "output_type": "display_data"
    },
    {
     "data": {
      "image/png": "[encoded data removed]",
      "text/plain": [
       "<Figure size 720x216 with 1 Axes>"
      ]
     },
     "metadata": {
      "needs_background": "light"
     },
     "output_type": "display_data"
    }
   ],
   "source": [
    "for i in [0, 5, 7]:\n",
    "    visualize_example(X_train_counts[i,:], y_train[i])"
   ]
  },
  {
   "cell_type": "markdown",
   "id": "a542e674",
   "metadata": {},
   "source": [
    "### Train the classifier"
   ]
  },
  {
   "cell_type": "code",
   "execution_count": 10,
   "id": "ce458d36",
   "metadata": {},
   "outputs": [
    {
     "data": {
      "text/plain": [
       "LinearSVC()"
      ]
     },
     "execution_count": 10,
     "metadata": {},
     "output_type": "execute_result"
    }
   ],
   "source": [
    "classifier = svm.LinearSVC()\n",
    "np.random.shuffle(y_train)\n",
    "classifier.fit(X_train_counts, y_train)"
   ]
  },
  {
   "cell_type": "markdown",
   "id": "a56da6e4",
   "metadata": {},
   "source": [
    "### Inspect the classifier"
   ]
  },
  {
   "cell_type": "code",
   "execution_count": 11,
   "id": "ad9e1806",
   "metadata": {},
   "outputs": [
    {
     "data": {
      "image/png": "[encoded data removed]",
      "text/plain": [
       "<Figure size 720x216 with 1 Axes>"
      ]
     },
     "metadata": {
      "needs_background": "light"
     },
     "output_type": "display_data"
    },
    {
     "name": "stdout",
     "output_type": "stream",
     "text": [
      "the\n",
      "to\n",
      "your\n"
     ]
    }
   ],
   "source": [
    "visualize_example(classifier.coef_, \"classifier weights\")\n",
    "_, most_important_coef = np.where(np.abs(classifier.coef_)>0.5)\n",
    "important_words = [index_to_word[i] for i in most_important_coef ]\n",
    "print (\"\\n\".join(important_words))"
   ]
  },
  {
   "cell_type": "markdown",
   "id": "247e8c92",
   "metadata": {},
   "source": [
    "### Test and evaluate the classifier\n",
    "\n",
    "Now let's transform the test data and predict the classification results"
   ]
  },
  {
   "cell_type": "code",
   "execution_count": 12,
   "id": "a6508e04",
   "metadata": {},
   "outputs": [],
   "source": [
    "X_test_counts = count_vect.transform(df[\"sentence\"][test_indices])\n",
    "y_test = df[\"label\"][test_indices]"
   ]
  },
  {
   "cell_type": "code",
   "execution_count": 13,
   "id": "bde8962c",
   "metadata": {},
   "outputs": [],
   "source": [
    "y_predict = classifier.predict(X_test_counts)"
   ]
  },
  {
   "cell_type": "markdown",
   "id": "fe49e51c",
   "metadata": {},
   "source": [
    "### Visualize the results\n",
    "\n",
    "A confusion matrix is a good way to obtain an overview of the classification results.\n",
    "\n",
    "This is how it should look like:\n",
    "<img src=\"spam_solution.png\">"
   ]
  },
  {
   "cell_type": "code",
   "execution_count": 14,
   "id": "1dddd5c8",
   "metadata": {},
   "outputs": [],
   "source": [
    "C = confusion_matrix(y_test, y_predict)"
   ]
  },
  {
   "cell_type": "code",
   "execution_count": 15,
   "id": "e987ae3c",
   "metadata": {},
   "outputs": [
    {
     "data": {
      "text/plain": [
       "<sklearn.metrics._plot.confusion_matrix.ConfusionMatrixDisplay at 0x1965d9676a0>"
      ]
     },
     "execution_count": 15,
     "metadata": {},
     "output_type": "execute_result"
    },
    {
     "data": {
      "image/png": "[encoded data removed]",
      "text/plain": [
       "<Figure size 432x288 with 2 Axes>"
      ]
     },
     "metadata": {
      "needs_background": "light"
     },
     "output_type": "display_data"
    }
   ],
   "source": [
    "disp = ConfusionMatrixDisplay(confusion_matrix=C, display_labels=classifier.classes_)\n",
    "disp.plot() "
   ]
  },
  {
   "cell_type": "markdown",
   "id": "bfd61590",
   "metadata": {},
   "source": [
    "## What is the accuracy??"
   ]
  },
  {
   "cell_type": "code",
   "execution_count": null,
   "id": "c3576511",
   "metadata": {},
   "outputs": [],
   "source": []
  }
 ],
 "metadata": {
  "kernelspec": {
   "display_name": "Python 3",
   "language": "python",
   "name": "python3"
  },
  "language_info": {
   "codemirror_mode": {
    "name": "ipython",
    "version": 3
   },
   "file_extension": ".py",
   "mimetype": "text/x-python",
   "name": "python",
   "nbconvert_exporter": "python",
   "pygments_lexer": "ipython3",
   "version": "3.8.0"
  }
 },
 "nbformat": 4,
 "nbformat_minor": 5
}

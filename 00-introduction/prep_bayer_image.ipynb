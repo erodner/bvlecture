{
 "cells": [
  {
   "cell_type": "markdown",
   "id": "e056cd3f",
   "metadata": {},
   "source": [
    "# Preparation of the bayer image exercise"
   ]
  },
  {
   "cell_type": "code",
   "execution_count": null,
   "id": "6c69ee35",
   "metadata": {},
   "outputs": [],
   "source": [
    "from skimage.io import imread, imsave\n",
    "import matplotlib.pylab as plt"
   ]
  },
  {
   "cell_type": "markdown",
   "id": "0273d710",
   "metadata": {},
   "source": [
    "## Load large image\n",
    "\n",
    "Source: https://de.wikipedia.org/wiki/Bayer-Sensor#/media/Datei:Bayer_Bild_SW_Sensor_Output.jpg\n",
    "\n",
    "All pixels have been enlarged with factor 10, something we need to get rid of"
   ]
  },
  {
   "cell_type": "code",
   "execution_count": null,
   "id": "a20a4dc9",
   "metadata": {},
   "outputs": [],
   "source": [
    "img = imread(\"bayer_large.jpg\")"
   ]
  },
  {
   "cell_type": "code",
   "execution_count": null,
   "id": "b4ea65e3",
   "metadata": {},
   "outputs": [],
   "source": [
    "plt.gray()\n",
    "plt.imshow(img[:100, :100])"
   ]
  },
  {
   "cell_type": "markdown",
   "id": "cb27d013",
   "metadata": {},
   "source": [
    "## Rescale the image"
   ]
  },
  {
   "cell_type": "code",
   "execution_count": null,
   "id": "aefe6c13",
   "metadata": {},
   "outputs": [],
   "source": [
    "img_orig = img[::10, ::10]\n",
    "plt.imshow(img_orig[:10, :10])"
   ]
  },
  {
   "cell_type": "code",
   "execution_count": null,
   "id": "ca035dc7",
   "metadata": {},
   "outputs": [],
   "source": [
    "imsave(\"bayer_input.png\", img_orig)"
   ]
  },
  {
   "cell_type": "code",
   "execution_count": null,
   "id": "a43c53b3",
   "metadata": {},
   "outputs": [],
   "source": []
  }
 ],
 "metadata": {
  "kernelspec": {
   "display_name": "Python 3",
   "language": "python",
   "name": "python3"
  },
  "language_info": {
   "codemirror_mode": {
    "name": "ipython",
    "version": 3
   },
   "file_extension": ".py",
   "mimetype": "text/x-python",
   "name": "python",
   "nbconvert_exporter": "python",
   "pygments_lexer": "ipython3",
   "version": "3.8.0"
  }
 },
 "nbformat": 4,
 "nbformat_minor": 5
}

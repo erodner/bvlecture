{
 "cells": [
  {
   "cell_type": "markdown",
   "id": "8c5472ed",
   "metadata": {},
   "source": [
    "<img style=\"float: right;\" src=\"../htwlogo.jpg\">\n",
    "\n",
    "# First python and jupyter steps\n",
    "\n",
    "This jupyter notebook is a collection of various elements of the python language. It is\n",
    "definitely not a complete collection of even the basics in python, but it might help you to get started.\n",
    "\n",
    "**Author**: _Erik Rodner_<br>\n",
    "**Lecture**: Computer Vision and Machine Learning I\n",
    "\n",
    "By the way, this is a cell that accepts _markdown_ formatted text. You can type in whatever you want.\n",
    "I will use these cells for **documentation** of \n",
    "\n",
    "1. one\n",
    "2. two\n",
    "3. three\n",
    "\n",
    "important aspects as well as providing additional links, such as http://www.codewars.com, where you can\n",
    "train using python with quite some fun.\n",
    "\n",
    "**For executing cells please press Shift-Enter.**"
   ]
  },
  {
   "cell_type": "markdown",
   "id": "a515e5c2",
   "metadata": {},
   "source": [
    "## Python basics"
   ]
  },
  {
   "cell_type": "code",
   "execution_count": null,
   "id": "9f88c14b",
   "metadata": {},
   "outputs": [],
   "source": [
    "3*8"
   ]
  },
  {
   "cell_type": "code",
   "execution_count": null,
   "id": "d28d7d30",
   "metadata": {},
   "outputs": [],
   "source": [
    "print (\"Hello world\")"
   ]
  },
  {
   "cell_type": "code",
   "execution_count": null,
   "id": "fae50687",
   "metadata": {},
   "outputs": [],
   "source": [
    "for i in range(5):\n",
    "    print (i)"
   ]
  },
  {
   "cell_type": "code",
   "execution_count": null,
   "id": "a302ae34",
   "metadata": {},
   "outputs": [],
   "source": [
    "x = 5.0\n",
    "y = x * 9.7\n",
    "print (f\"My x is {x} and my y is {y}\")"
   ]
  },
  {
   "cell_type": "markdown",
   "id": "607bd864",
   "metadata": {},
   "source": [
    "## Functions in python"
   ]
  },
  {
   "cell_type": "code",
   "execution_count": null,
   "id": "facf9e07",
   "metadata": {},
   "outputs": [],
   "source": [
    "def foobar():\n",
    "    print (\"Hello World\")\n",
    "    return 5.0"
   ]
  },
  {
   "cell_type": "code",
   "execution_count": null,
   "id": "714dd987",
   "metadata": {},
   "outputs": [],
   "source": [
    "print (foobar())"
   ]
  },
  {
   "cell_type": "markdown",
   "id": "cd961551",
   "metadata": {},
   "source": [
    "## Using images in python"
   ]
  },
  {
   "cell_type": "code",
   "execution_count": null,
   "id": "10c66232",
   "metadata": {},
   "outputs": [],
   "source": [
    "import numpy as np # allows to handle images as matrices\n",
    "import matplotlib.pylab as plt"
   ]
  },
  {
   "cell_type": "markdown",
   "id": "548c4d74",
   "metadata": {},
   "source": [
    "Let's start with a tiny image with only one interesting pixel"
   ]
  },
  {
   "cell_type": "code",
   "execution_count": null,
   "id": "2a5bb3bc",
   "metadata": {},
   "outputs": [],
   "source": [
    "img = np.zeros((20, 10), dtype=np.uint8)\n",
    "img[10,5] = 100"
   ]
  },
  {
   "cell_type": "code",
   "execution_count": null,
   "id": "3fe9f40f",
   "metadata": {},
   "outputs": [],
   "source": [
    "img.shape"
   ]
  },
  {
   "cell_type": "code",
   "execution_count": null,
   "id": "3e155354",
   "metadata": {},
   "outputs": [],
   "source": [
    "plt.imshow(img, vmin=0, vmax=255, cmap=plt.cm.gray)\n",
    "plt.colorbar()"
   ]
  },
  {
   "cell_type": "markdown",
   "id": "f258c117",
   "metadata": {},
   "source": [
    "Let's use scikit-image for more interesting images"
   ]
  },
  {
   "cell_type": "code",
   "execution_count": null,
   "id": "0b7a4e3d",
   "metadata": {},
   "outputs": [],
   "source": [
    "import skimage.data as examples"
   ]
  },
  {
   "cell_type": "code",
   "execution_count": null,
   "id": "888ee221",
   "metadata": {},
   "outputs": [],
   "source": [
    "img = examples.astronaut()"
   ]
  },
  {
   "cell_type": "code",
   "execution_count": null,
   "id": "5497f590",
   "metadata": {},
   "outputs": [],
   "source": [
    "print (f\"The variable img is of type: {type(img)}\")\n",
    "print (f\"Each intensity has type: {img.dtype}\")\n",
    "print (f\"The image size or shape of the matrix is: {img.shape}\")"
   ]
  },
  {
   "cell_type": "code",
   "execution_count": null,
   "id": "1bc72b8f",
   "metadata": {},
   "outputs": [],
   "source": [
    "plt.imshow(img)\n",
    "plt.title(\"Example image from scikit-image\")\n",
    "plt.show()"
   ]
  },
  {
   "cell_type": "code",
   "execution_count": null,
   "id": "d5c02b1a",
   "metadata": {},
   "outputs": [],
   "source": [
    "plt.figure(figsize=(10,10)) # let's make the figure larger\n",
    "r_channel = img[100:,100:,0]\n",
    "plt.imshow(r_channel, cmap=plt.cm.gray)\n",
    "plt.colorbar()\n",
    "plt.title(f\"A part of the R-channel of shape {r_channel.shape}\")\n",
    "plt.show()"
   ]
  },
  {
   "cell_type": "markdown",
   "id": "b516a4f7",
   "metadata": {},
   "source": [
    "## Let's experiment with different image transformations"
   ]
  },
  {
   "cell_type": "code",
   "execution_count": null,
   "id": "c1fb5095",
   "metadata": {},
   "outputs": [],
   "source": [
    "from skimage.color import rgb2gray"
   ]
  },
  {
   "cell_type": "code",
   "execution_count": null,
   "id": "068d438c",
   "metadata": {},
   "outputs": [],
   "source": [
    "imgg = rgb2gray(img)"
   ]
  },
  {
   "cell_type": "code",
   "execution_count": null,
   "id": "99a6dc5a",
   "metadata": {},
   "outputs": [],
   "source": [
    "# the resulting grayscale image has intensities between 0 and 1\n",
    "np.max(imgg)"
   ]
  },
  {
   "cell_type": "code",
   "execution_count": null,
   "id": "eeeac845",
   "metadata": {},
   "outputs": [],
   "source": [
    "A = np.ones((3,3))*5"
   ]
  },
  {
   "cell_type": "code",
   "execution_count": null,
   "id": "68dc5b72",
   "metadata": {},
   "outputs": [],
   "source": [
    "plt.imshow(imgg, cmap=plt.cm.gray)\n",
    "plt.colorbar()"
   ]
  },
  {
   "cell_type": "code",
   "execution_count": null,
   "id": "0eae2d26",
   "metadata": {},
   "outputs": [],
   "source": [
    "imgg_t = 1.2*imgg\n",
    "plt.imshow(imgg_t, vmin=0, vmax=1, cmap=plt.cm.gray)"
   ]
  },
  {
   "cell_type": "code",
   "execution_count": null,
   "id": "7eb9f383",
   "metadata": {},
   "outputs": [],
   "source": []
  }
 ],
 "metadata": {
  "kernelspec": {
   "display_name": "Python 3",
   "language": "python",
   "name": "python3"
  },
  "language_info": {
   "codemirror_mode": {
    "name": "ipython",
    "version": 3
   },
   "file_extension": ".py",
   "mimetype": "text/x-python",
   "name": "python",
   "nbconvert_exporter": "python",
   "pygments_lexer": "ipython3",
   "version": "3.8.0"
  }
 },
 "nbformat": 4,
 "nbformat_minor": 5
}

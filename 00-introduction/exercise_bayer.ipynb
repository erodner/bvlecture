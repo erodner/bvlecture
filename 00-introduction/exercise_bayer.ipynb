{
 "cells": [
  {
   "cell_type": "markdown",
   "id": "326b0bab",
   "metadata": {},
   "source": [
    "## Exercise: Debayering of an image\n",
    "\n",
    "In the following exercise, we will debayer an image. Keep an mind that Bayer patterns can look different. The following raw image is based on the following Bayer pattern::\n",
    "![Bayer-Pattern](bayer_matrix.svg)"
   ]
  },
  {
   "cell_type": "markdown",
   "id": "0ff91d6c",
   "metadata": {},
   "source": [
    "Let's read the image and display a part of it"
   ]
  },
  {
   "cell_type": "code",
   "execution_count": 1,
   "id": "d66add3b",
   "metadata": {},
   "outputs": [],
   "source": [
    "from skimage.io import imread, imsave\n",
    "import matplotlib.pylab as plt\n",
    "import numpy as np"
   ]
  },
  {
   "cell_type": "code",
   "execution_count": 2,
   "id": "2b4ac59e",
   "metadata": {},
   "outputs": [],
   "source": [
    "img = imread(\"bayer_input.png\")"
   ]
  },
  {
   "cell_type": "code",
   "execution_count": 3,
   "id": "0d8093e3",
   "metadata": {},
   "outputs": [
    {
     "data": {
      "text/plain": [
       "<matplotlib.image.AxesImage at 0x229d98cd700>"
      ]
     },
     "execution_count": 3,
     "metadata": {},
     "output_type": "execute_result"
    },
    {
     "data": {
      "image/png": "[encoded data removed]",
      "text/plain": [
       "<Figure size 432x288 with 1 Axes>"
      ]
     },
     "metadata": {
      "needs_background": "light"
     },
     "output_type": "display_data"
    }
   ],
   "source": [
    "plt.imshow(img[:20,:20], cmap=plt.cm.gray)"
   ]
  },
  {
   "cell_type": "markdown",
   "id": "6a708315",
   "metadata": {},
   "source": [
    "## Debayering and your solution starts here"
   ]
  },
  {
   "cell_type": "code",
   "execution_count": 7,
   "id": "f13c0774",
   "metadata": {},
   "outputs": [],
   "source": [
    "# The image is usually in uint8 (byte), which is difficult sometimes if you do calculations\n",
    "# that exceed the range between [0, 255]\n",
    "# Therefore, we convert the image here:\n",
    "img = img.astype(int)\n",
    "\n",
    "# determine width and height of the image\n",
    "h, w = img.shape\n",
    "# define an variable that we use to store our result\n",
    "# this is an image with 3 channels, R, G and B\n",
    "img_debayer = np.zeros((h, w, 3), np.uint8)\n",
    "\n",
    "# let's loop through the image and ignore the border\n",
    "for y in range(1,h-1):\n",
    "    for x in range(1,w-1):\n",
    "        # check what kind of pixel this is and merge the R, G, B values\n",
    "        # in an appropiate way, use variables r, g, b for it\n",
    "        r = 0\n",
    "        g = 0 \n",
    "        b = 0\n",
    "        \n",
    "        ## ADD debayer algorithm here\n",
    "        \n",
    "        \n",
    "        # assign pixel values\n",
    "        img_debayer[y, x, 0] = r\n",
    "        img_debayer[y, x, 1] = g\n",
    "        img_debayer[y, x, 2] = b"
   ]
  },
  {
   "cell_type": "markdown",
   "id": "30e5f577",
   "metadata": {},
   "source": [
    "## The final result"
   ]
  },
  {
   "cell_type": "code",
   "execution_count": 8,
   "id": "f4ec8031",
   "metadata": {},
   "outputs": [
    {
     "data": {
      "text/plain": [
       "<matplotlib.image.AxesImage at 0x229d9a1de80>"
      ]
     },
     "execution_count": 8,
     "metadata": {},
     "output_type": "execute_result"
    },
    {
     "data": {
      "image/png": "[encoded data removed]",
      "text/plain": [
       "<Figure size 432x288 with 1 Axes>"
      ]
     },
     "metadata": {
      "needs_background": "light"
     },
     "output_type": "display_data"
    }
   ],
   "source": [
    "plt.imshow(img_debayer)"
   ]
  },
  {
   "cell_type": "code",
   "execution_count": null,
   "id": "a7673f53",
   "metadata": {},
   "outputs": [],
   "source": []
  }
 ],
 "metadata": {
  "kernelspec": {
   "display_name": "Python 3",
   "language": "python",
   "name": "python3"
  },
  "language_info": {
   "codemirror_mode": {
    "name": "ipython",
    "version": 3
   },
   "file_extension": ".py",
   "mimetype": "text/x-python",
   "name": "python",
   "nbconvert_exporter": "python",
   "pygments_lexer": "ipython3",
   "version": "3.8.0"
  }
 },
 "nbformat": 4,
 "nbformat_minor": 5
}

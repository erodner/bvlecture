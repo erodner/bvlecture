{
 "cells": [
  {
   "cell_type": "markdown",
   "id": "6d55f3a2",
   "metadata": {},
   "source": [
    "<img style=\"float: right;\" src=\"../htwlogo.jpg\">\n",
    "\n",
    "# Noise and averaging\n",
    "\n",
    "**Author**: _Erik Rodner_<br>\n",
    "**Lecture**: Computer Vision and Machine Learning I\n",
    "\n",
    "In this notebook, we will walk through different noise types that appear and images. Furthermore, we will show how to remove them if there is an opportunity to take multiple images."
   ]
  },
  {
   "cell_type": "code",
   "execution_count": null,
   "id": "5ea3928f",
   "metadata": {},
   "outputs": [],
   "source": [
    "# import our usual friends\n",
    "from skimage.io import imread, imsave\n",
    "import matplotlib.pylab as plt\n",
    "import numpy as np\n",
    "import skimage.data as examples\n",
    "from skimage.color import rgb2gray"
   ]
  },
  {
   "cell_type": "code",
   "execution_count": null,
   "id": "7c721f08",
   "metadata": {},
   "outputs": [],
   "source": [
    "img = rgb2gray(examples.astronaut())"
   ]
  },
  {
   "cell_type": "code",
   "execution_count": null,
   "id": "ecdb6a29",
   "metadata": {},
   "outputs": [],
   "source": [
    "plt.gray()\n",
    "plt.imshow(img)\n",
    "plt.title(f\"original image with maximum intensity {np.max(img)}\")\n",
    "plt.show()"
   ]
  },
  {
   "cell_type": "markdown",
   "id": "d8e41b2d",
   "metadata": {},
   "source": [
    "### Random numbers in python and numpy"
   ]
  },
  {
   "cell_type": "markdown",
   "id": "8274473c",
   "metadata": {},
   "source": [
    "Let's first have a look how to generate random numbers with python and especially our famous module numpy"
   ]
  },
  {
   "cell_type": "code",
   "execution_count": null,
   "id": "87cd6a5a",
   "metadata": {},
   "outputs": [],
   "source": [
    "# generate random numbers between 0 and 1 uniformly\n",
    "for i in range(10):\n",
    "    print (np.random.rand())"
   ]
  },
  {
   "cell_type": "markdown",
   "id": "e2f8c085",
   "metadata": {},
   "source": [
    "All numbers are drawn independently from each other from a uniform distribution. The nice thing is that we can generate multiple of these numbers at once with numpy by just specifying the shape of the matrix:"
   ]
  },
  {
   "cell_type": "code",
   "execution_count": null,
   "id": "15893786",
   "metadata": {},
   "outputs": [],
   "source": [
    "np.random.rand(10,1)"
   ]
  },
  {
   "cell_type": "markdown",
   "id": "b347159b",
   "metadata": {},
   "source": [
    "We can use this to simply draw random numbers in the plane $[0,1] x [0,1]$"
   ]
  },
  {
   "cell_type": "code",
   "execution_count": null,
   "id": "a306389f",
   "metadata": {},
   "outputs": [],
   "source": [
    "points = np.random.rand(500,2)\n",
    "# we select full columns by using : as an index for rows\n",
    "plt.scatter( points[:,0], points[:,1] ) \n",
    "plt.title(\"Uniform distribution in 2D\")\n",
    "plt.show()"
   ]
  },
  {
   "cell_type": "markdown",
   "id": "cec8f692",
   "metadata": {},
   "source": [
    "Let's do the same with points drawn from a Gaussian distribution using ```randn```"
   ]
  },
  {
   "cell_type": "code",
   "execution_count": null,
   "id": "f6c71254",
   "metadata": {},
   "outputs": [],
   "source": [
    "points = np.random.randn(500,2)\n",
    "# we select full columns by using : as an index for rows\n",
    "plt.scatter( points[:,0], points[:,1] ) \n",
    "plt.title(\"Gaussian distribution in 2D with standard deviation 1\")\n",
    "plt.show()"
   ]
  },
  {
   "cell_type": "markdown",
   "id": "9eeb0cd4",
   "metadata": {},
   "source": [
    "## Random noise on images\n",
    "\n",
    "Let's go back to images and add noise to images to see the effect. In reality, noise will be already present in the images and we simply add it here for illustration."
   ]
  },
  {
   "cell_type": "code",
   "execution_count": null,
   "id": "a6a4e3b5",
   "metadata": {},
   "outputs": [],
   "source": [
    "h, w = img.shape"
   ]
  },
  {
   "cell_type": "markdown",
   "id": "8a7be899",
   "metadata": {},
   "source": [
    "We will use the following helper function for staying in the right intensity range [0,1]"
   ]
  },
  {
   "cell_type": "code",
   "execution_count": null,
   "id": "bdd6fb8b",
   "metadata": {},
   "outputs": [],
   "source": [
    "def clip(img, lower=0.0, upper=1.0):\n",
    "    return np.minimum(np.maximum(img, lower), upper)"
   ]
  },
  {
   "cell_type": "code",
   "execution_count": null,
   "id": "e3507519",
   "metadata": {},
   "outputs": [],
   "source": [
    "img_noisy = clip(img + np.random.randn(h, w))\n",
    "plt.imshow(img_noisy)\n",
    "plt.colorbar()"
   ]
  },
  {
   "cell_type": "markdown",
   "id": "0f880b86",
   "metadata": {},
   "source": [
    "Ups, this was too bad. However, keep in mind that ```randn``` uses a Gaussian distribution with standard deviation of 1 by default. \n",
    "This leads to high values as can be seen in the distribution plot above. Let's scale this noise down and show multiple images with a different standard deviation."
   ]
  },
  {
   "cell_type": "code",
   "execution_count": null,
   "id": "630dd66e",
   "metadata": {},
   "outputs": [],
   "source": [
    "plt.figure(figsize=(15,8))\n",
    "for index, stddev in enumerate([0.0, 0.01, 0.1, 0.3, 0.6, 0.8, 1.0, 5]):\n",
    "    img_noisy = clip(img + stddev*np.random.randn(h, w))\n",
    "    plt.subplot(2,4,index+1)\n",
    "    plt.imshow(img_noisy, vmin=0, vmax=1)\n",
    "    plt.title(f\"$\\sigma={stddev}$\")"
   ]
  },
  {
   "cell_type": "markdown",
   "id": "89042024",
   "metadata": {},
   "source": [
    "Another common type of noise is **salt and pepper noise**, where pixels are completely turned off. We can simulate this by generating a random boolean matrix that we multiply the image with. The boolean matrix is generated by thresholding the random matrix of continuous values. Actually, we just show pepper noise :)"
   ]
  },
  {
   "cell_type": "code",
   "execution_count": null,
   "id": "c80c7125",
   "metadata": {},
   "outputs": [],
   "source": [
    "# with probability p the matrix e contains the value 0 and the resulting pixel\n",
    "# after multiplication will be black\n",
    "plt.figure(figsize=(15,8))\n",
    "for index, p in enumerate([0, 0.1, 0.2, 0.3, 0.4, 0.6]):\n",
    "    e = np.random.rand(h, w) > p\n",
    "    img_noisy = img * e\n",
    "    plt.subplot(2,3,index+1)\n",
    "    plt.imshow(img_noisy)\n",
    "    plt.title(f\"$p={p}$\")"
   ]
  },
  {
   "cell_type": "markdown",
   "id": "2334358b",
   "metadata": {},
   "source": [
    "## Reducing noise by averaging"
   ]
  },
  {
   "cell_type": "code",
   "execution_count": null,
   "id": "102b23e6",
   "metadata": {},
   "outputs": [],
   "source": [
    "# the following function simulates image acquisition with noise\n",
    "def acquire_image():\n",
    "    return clip(img + 0.6 * np.random.randn(*img.shape))"
   ]
  },
  {
   "cell_type": "markdown",
   "id": "49880067",
   "metadata": {},
   "source": [
    "Let's display some of the images"
   ]
  },
  {
   "cell_type": "code",
   "execution_count": null,
   "id": "3a51b812",
   "metadata": {},
   "outputs": [],
   "source": [
    "plt.figure(figsize=(15,8))\n",
    "for index in range(6):\n",
    "    plt.subplot(1,6,index+1)\n",
    "    myimg = acquire_image()\n",
    "    plt.imshow(myimg, vmin=0, vmax=1)"
   ]
  },
  {
   "cell_type": "markdown",
   "id": "9d724fed",
   "metadata": {},
   "source": [
    "What happens if we average a few of them? Let's use some simple magic"
   ]
  },
  {
   "cell_type": "code",
   "execution_count": null,
   "id": "462c8cfd",
   "metadata": {},
   "outputs": [],
   "source": [
    "images_10 = np.mean([ acquire_image() for i in range(10) ], axis=0)\n",
    "images_100 = np.mean([ acquire_image() for i in range(100) ], axis=0)\n",
    "images_1000 = np.mean([ acquire_image() for i in range(1000) ], axis=0)"
   ]
  },
  {
   "cell_type": "code",
   "execution_count": null,
   "id": "d6c9aa53",
   "metadata": {},
   "outputs": [],
   "source": [
    "plt.figure(figsize=(15,8))\n",
    "plt.subplot(1,4,1)\n",
    "plt.imshow(img, vmin=0, vmax=1)\n",
    "plt.title(\"original image\")\n",
    "plt.subplot(1,4,2)\n",
    "plt.imshow(images_10, vmin=0, vmax=1)\n",
    "plt.title(\"avg of 10 images\")\n",
    "plt.subplot(1,4,3)\n",
    "plt.imshow(images_100, vmin=0, vmax=1)\n",
    "plt.title(\"avg of 100 images\")\n",
    "plt.subplot(1,4,4)\n",
    "plt.imshow(images_1000, vmin=0, vmax=1)\n",
    "plt.title(\"avg of 1000 images\")"
   ]
  },
  {
   "cell_type": "code",
   "execution_count": null,
   "id": "bf28aa4e",
   "metadata": {},
   "outputs": [],
   "source": []
  }
 ],
 "metadata": {
  "kernelspec": {
   "display_name": "Python 3",
   "language": "python",
   "name": "python3"
  },
  "language_info": {
   "codemirror_mode": {
    "name": "ipython",
    "version": 3
   },
   "file_extension": ".py",
   "mimetype": "text/x-python",
   "name": "python",
   "nbconvert_exporter": "python",
   "pygments_lexer": "ipython3",
   "version": "3.8.0"
  }
 },
 "nbformat": 4,
 "nbformat_minor": 5
}

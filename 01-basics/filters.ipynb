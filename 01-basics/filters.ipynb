{
 "cells": [
  {
   "cell_type": "markdown",
   "id": "e0aad918",
   "metadata": {},
   "source": [
    "<img style=\"float: right;\" src=\"../htwlogo.jpg\">\n",
    "\n",
    "# Filtering and convolutions\n",
    "\n",
    "**Author**: _Erik Rodner_<br>\n",
    "**Lecture**: Computer Vision and Machine Learning I\n",
    "\n",
    "In this notebook, we will have a look on convolutions and the effect of filtering. In this notebook, we will use scikit-image methods."
   ]
  },
  {
   "cell_type": "code",
   "execution_count": null,
   "id": "65b8f319",
   "metadata": {},
   "outputs": [],
   "source": [
    "# let's check the scikit-image version - just to be sure\n",
    "# we are using the right API (the following is tested with 0.17.2)\n",
    "# Docs: https://scikit-image.org/docs/0.17.x/api/api.html\n",
    "import skimage\n",
    "skimage.__version__"
   ]
  },
  {
   "cell_type": "code",
   "execution_count": null,
   "id": "7ea0c924",
   "metadata": {},
   "outputs": [],
   "source": [
    "# import our usual friends\n",
    "from skimage.io import imread, imsave\n",
    "import matplotlib.pylab as plt\n",
    "import numpy as np\n",
    "import skimage.data as examples\n",
    "from skimage.color import rgb2gray\n",
    "from scipy.ndimage import convolve\n",
    "from skimage.filters import gaussian, sobel_h, sobel_v"
   ]
  },
  {
   "cell_type": "code",
   "execution_count": null,
   "id": "8ca46ad6",
   "metadata": {},
   "outputs": [],
   "source": [
    "img = rgb2gray(examples.astronaut())"
   ]
  },
  {
   "cell_type": "code",
   "execution_count": null,
   "id": "a382f1fb",
   "metadata": {},
   "outputs": [],
   "source": [
    "# let's define a box filter of size 9 by 9\n",
    "s = 101\n",
    "weights = np.zeros((s,s))\n",
    "weights[-1,-1] = 1\n",
    "filtered_img = convolve(img, weights, mode=\"constant\")\n",
    "plt.gray() # we will deal with grayscale images and also want to show them properly\n",
    "plt.subplot(1,2,1)\n",
    "plt.imshow(img, vmin=0, vmax=1)\n",
    "plt.subplot(1,2,2)\n",
    "plt.imshow(filtered_img, vmin=0, vmax=1)"
   ]
  },
  {
   "cell_type": "markdown",
   "id": "2e530a80",
   "metadata": {},
   "source": [
    "## Box filters\n",
    "\n",
    "Let's play with some box filters first and look at their effect on images"
   ]
  },
  {
   "cell_type": "code",
   "execution_count": null,
   "id": "d3529054",
   "metadata": {},
   "outputs": [],
   "source": [
    "# let's define a box filter of size 9 by 9\n",
    "s = 9\n",
    "weights = np.ones((s,s))\n",
    "print (weights)\n",
    "# do not forget appropiate scaling\n",
    "weights /= s*s\n",
    "filtered_img = convolve(img, weights)\n",
    "plt.gray() # we will deal with grayscale images and also want to show them properly\n",
    "plt.imshow(filtered_img, vmin=0, vmax=1)\n",
    "plt.colorbar()"
   ]
  },
  {
   "cell_type": "markdown",
   "id": "7818f786",
   "metadata": {},
   "source": [
    "## Gaussian filters\n",
    "\n",
    "An alternative to box filters are Gaussian filters, which can be also theoretically motivated in different ways.\n",
    "Simply speaking, it is quite reasonable that pixels further away from a central pixel receive a lower weight. Let's use an skimage function first."
   ]
  },
  {
   "cell_type": "code",
   "execution_count": null,
   "id": "bb34f67f",
   "metadata": {},
   "outputs": [],
   "source": [
    "gaussian?"
   ]
  },
  {
   "cell_type": "code",
   "execution_count": null,
   "id": "77f1a871",
   "metadata": {},
   "outputs": [],
   "source": [
    "filtered_img = gaussian(img, sigma=20)\n",
    "plt.imshow(filtered_img, vmin=0, vmax=1)\n",
    "plt.colorbar()"
   ]
  },
  {
   "cell_type": "markdown",
   "id": "d9db55c7",
   "metadata": {},
   "source": [
    "But how does the filter mask look like? We can check this by filtering an image with a single impulse"
   ]
  },
  {
   "cell_type": "code",
   "execution_count": null,
   "id": "99d56ef0",
   "metadata": {},
   "outputs": [],
   "source": [
    "simple_img = np.zeros((31,31))\n",
    "simple_img[15,15] = 1\n",
    "G = gaussian(simple_img, sigma=2, truncate=2)\n",
    "plt.subplot(1,2,1)\n",
    "plt.imshow(simple_img)\n",
    "plt.title(\"single impulse\")\n",
    "plt.subplot(1,2,2)\n",
    "plt.imshow(G)\n",
    "plt.title(\"Gaussian filter\")"
   ]
  },
  {
   "cell_type": "code",
   "execution_count": null,
   "id": "2f8a89ef",
   "metadata": {},
   "outputs": [],
   "source": [
    "# let's visualize the truncate principle\n",
    "plt.imshow(G==0)"
   ]
  },
  {
   "cell_type": "markdown",
   "id": "7ad02bb6",
   "metadata": {},
   "source": [
    "## Edge filters\n",
    "\n",
    "After all of this smoothing, we would like to detect high-frequency elements of the images - edges!\n",
    "We do this first, by applying simple gradient filters. Please have a close look to the filter masks - do they look right and identical to the ones in the lecture slides? What is the difference and why?"
   ]
  },
  {
   "cell_type": "code",
   "execution_count": null,
   "id": "64ab289c",
   "metadata": {},
   "outputs": [],
   "source": [
    "gx = np.array([[1, 0, -1], [1, 0, -1], [1, 0, -1]])\n",
    "gy = np.array([[1, 1, 1], [0, 0, 0], [-1, -1, -1]])\n",
    "print (f\"gx = \\n{gx}\")\n",
    "print (f\"gx = \\n{gy}\")\n",
    "# The filter masks need to be scaled with 3.0 since this is the sum of the positive parts.\n",
    "img_x = convolve(img, gx/3.0)\n",
    "img_y = convolve(img, gy/3.0)\n",
    "plt.figure(figsize=(12,5))\n",
    "plt.subplot(1,2,1)\n",
    "plt.imshow(img_x)\n",
    "plt.title(\"Gradient filter along x\")\n",
    "plt.colorbar()\n",
    "plt.subplot(1,2,2)\n",
    "plt.imshow(img_y)\n",
    "plt.title(\"Gradient filter along y\")\n",
    "plt.colorbar()"
   ]
  },
  {
   "cell_type": "markdown",
   "id": "165ac175",
   "metadata": {},
   "source": [
    "An alternative to gradient filters are sobel filters, which are indirectly performing a smoothing operation as well. In fact, they can be also realised by first applying a 1D-Gaussian filter and then a gradient filter - but this might be too much detail now."
   ]
  },
  {
   "cell_type": "code",
   "execution_count": null,
   "id": "6e81a239",
   "metadata": {},
   "outputs": [],
   "source": [
    "sobel_gx = np.array([[1, 0, -1], [2, 0, -2], [1, 0, -1]])\n",
    "sobel_gy = np.array([[1, 2, 1], [0, 0, 0], [-1, -2, -1]])\n",
    "print (f\"sobel gx =\\n {sobel_gx}\")\n",
    "print (f\"sobel gx =\\n {sobel_gy}\")\n",
    "img_sx = convolve(img, sobel_gx/4.0)\n",
    "img_sy = convolve(img, sobel_gy/4.0)\n",
    "plt.figure(figsize=(12,5))\n",
    "plt.subplot(1,2,1)\n",
    "plt.imshow(img_sx)\n",
    "plt.title(\"Sobel filter along x\")\n",
    "plt.colorbar()\n",
    "plt.subplot(1,2,2)\n",
    "plt.imshow(img_sy)\n",
    "plt.title(\"Sobel filter along y\")\n",
    "plt.colorbar()"
   ]
  },
  {
   "cell_type": "markdown",
   "id": "7f85fcb1",
   "metadata": {},
   "source": [
    "We can do this of course also with the ```skimage``` routines."
   ]
  },
  {
   "cell_type": "code",
   "execution_count": null,
   "id": "044b6fbc",
   "metadata": {},
   "outputs": [],
   "source": [
    "img_sx_skimage = sobel_v(img)\n",
    "img_sy_skimage = sobel_h(img)"
   ]
  },
  {
   "cell_type": "code",
   "execution_count": null,
   "id": "2abcd566",
   "metadata": {},
   "outputs": [],
   "source": [
    "plt.figure(figsize=(12,5))\n",
    "plt.subplot(1,2,1)\n",
    "plt.imshow(img_sx_skimage)\n",
    "plt.title(\"Sobel filter along x\")\n",
    "plt.colorbar()\n",
    "plt.subplot(1,2,2)\n",
    "plt.imshow(img_sy_skimage)\n",
    "plt.title(\"Sobel filter along y\")\n",
    "plt.colorbar()"
   ]
  },
  {
   "cell_type": "markdown",
   "id": "94042164",
   "metadata": {},
   "source": [
    "Often we simply care about the presence of the edge and not about their horizontal and vertical parts. We can do this by calculating the gradient magnitude. For visualization purposes we can also threshold the resulting image."
   ]
  },
  {
   "cell_type": "code",
   "execution_count": null,
   "id": "e3bd5088",
   "metadata": {},
   "outputs": [],
   "source": [
    "np.array([[1,2], [3,4]])**2"
   ]
  },
  {
   "cell_type": "code",
   "execution_count": null,
   "id": "24aa6c60",
   "metadata": {},
   "outputs": [],
   "source": [
    "magn = np.sqrt(img_sx**2 + img_sy**2)\n",
    "plt.figure(figsize=(10,10))\n",
    "plt.imshow(magn)\n",
    "plt.colorbar()\n",
    "plt.title(\"Gradient magnitude\")"
   ]
  },
  {
   "cell_type": "code",
   "execution_count": null,
   "id": "89bf7fb3",
   "metadata": {},
   "outputs": [],
   "source": [
    "plt.figure(figsize=(10,10))\n",
    "plt.imshow(magn>0.5)\n",
    "plt.title(\"Thresholded gradient magnitude\")"
   ]
  },
  {
   "cell_type": "code",
   "execution_count": null,
   "id": "de708888",
   "metadata": {},
   "outputs": [],
   "source": [
    "# let's define a box filter of size 9 by 9\n",
    "s = 21\n",
    "weights = np.ones((s,s))\n",
    "print (weights)\n",
    "# do not forget appropiate scaling\n",
    "weights /= s*s\n",
    "filtered_img = convolve(img, weights)\n",
    "alpha = 1.0\n",
    "binary_img = img>alpha*filtered_img\n",
    "\n",
    "\n",
    "\n",
    "plt.gray() # we will deal with grayscale images and also want to show them properly\n",
    "plt.imshow(binary_img)\n",
    "plt.colorbar()"
   ]
  },
  {
   "cell_type": "code",
   "execution_count": null,
   "id": "60a5aeb4",
   "metadata": {},
   "outputs": [],
   "source": []
  }
 ],
 "metadata": {
  "kernelspec": {
   "display_name": "Python 3",
   "language": "python",
   "name": "python3"
  },
  "language_info": {
   "codemirror_mode": {
    "name": "ipython",
    "version": 3
   },
   "file_extension": ".py",
   "mimetype": "text/x-python",
   "name": "python",
   "nbconvert_exporter": "python",
   "pygments_lexer": "ipython3",
   "version": "3.8.0"
  }
 },
 "nbformat": 4,
 "nbformat_minor": 5
}

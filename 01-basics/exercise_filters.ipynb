{
 "cells": [
  {
   "cell_type": "markdown",
   "id": "57482b85",
   "metadata": {},
   "source": [
    "<img style=\"float: right;\" src=\"../htwlogo.jpg\">\n",
    "\n",
    "# Exercise: filtering and convolutions\n",
    "\n",
    "**Author**: _Erik Rodner_<br>\n",
    "**Lecture**: Computer Vision and Machine Learning I\n",
    "\n",
    "In this notebook, you will need to implement filtering from scratch, i.e. **without using standard python modules (scipy, scikit-image) etc.**"
   ]
  },
  {
   "cell_type": "code",
   "execution_count": null,
   "id": "bf346a79",
   "metadata": {},
   "outputs": [],
   "source": [
    "# import our usual friends\n",
    "from skimage.io import imread, imsave\n",
    "import matplotlib.pylab as plt\n",
    "import numpy as np\n",
    "import skimage.data as examples\n",
    "from skimage.color import rgb2gray"
   ]
  },
  {
   "cell_type": "markdown",
   "id": "d4c2647f",
   "metadata": {},
   "source": [
    "## Filter function that you need to modify"
   ]
  },
  {
   "cell_type": "code",
   "execution_count": null,
   "id": "917dc505",
   "metadata": {},
   "outputs": [],
   "source": [
    "def conv_image(img, weights):\n",
    "    if len(img.shape)!=2:\n",
    "        raise Exception(\"This function only accepts grayvalue images.\")\n",
    "    if len(weights.shape)!=2:\n",
    "        raise Exception(\"This function only accepts standard 2d filter masks.\")\n",
    "    \n",
    "    # create a result image of the same size\n",
    "    filtered_img = np.zeros(img.shape)\n",
    "    h, w = img.shape\n",
    "    \n",
    "    # YOUR CODE should be here!\n",
    "    #\n",
    "    #\n",
    "    \n",
    "    return filtered_img"
   ]
  },
  {
   "cell_type": "markdown",
   "id": "52b50939",
   "metadata": {},
   "source": [
    "## Testing your code"
   ]
  },
  {
   "cell_type": "code",
   "execution_count": null,
   "id": "8d2bc75d",
   "metadata": {},
   "outputs": [],
   "source": [
    "img = rgb2gray(examples.astronaut())"
   ]
  },
  {
   "cell_type": "code",
   "execution_count": null,
   "id": "ce6644cf",
   "metadata": {},
   "outputs": [],
   "source": [
    "weights = np.ones((5,5))/25 # test filter that you can use\n",
    "filtered_img = conv_image(img, weights)"
   ]
  },
  {
   "cell_type": "code",
   "execution_count": null,
   "id": "ee016205",
   "metadata": {},
   "outputs": [],
   "source": [
    "plt.gray() # we will deal with grayscale images and also want to show them properly\n",
    "plt.subplot(1,2,1)\n",
    "plt.imshow(img, vmin=0, vmax=1)\n",
    "plt.title(\"input image\")\n",
    "plt.subplot(1,2,2)\n",
    "plt.imshow(filtered_img, vmin=0, vmax=1)\n",
    "plt.title(\"filter result\")"
   ]
  },
  {
   "cell_type": "code",
   "execution_count": null,
   "id": "0c54e6ce",
   "metadata": {},
   "outputs": [],
   "source": []
  }
 ],
 "metadata": {
  "kernelspec": {
   "display_name": "Python 3",
   "language": "python",
   "name": "python3"
  },
  "language_info": {
   "codemirror_mode": {
    "name": "ipython",
    "version": 3
   },
   "file_extension": ".py",
   "mimetype": "text/x-python",
   "name": "python",
   "nbconvert_exporter": "python",
   "pygments_lexer": "ipython3",
   "version": "3.8.0"
  }
 },
 "nbformat": 4,
 "nbformat_minor": 5
}

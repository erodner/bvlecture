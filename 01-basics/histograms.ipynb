{
 "cells": [
  {
   "cell_type": "markdown",
   "id": "2c0ed445",
   "metadata": {},
   "source": [
    "<img style=\"float: right;\" src=\"../htwlogo.jpg\">\n",
    "\n",
    "# Histograms\n",
    "\n",
    "**Author**: _Erik Rodner_<br>\n",
    "**Lecture**: Computer Vision and Machine Learning I\n",
    "\n",
    "In this notebook, you will learn how to generate and use histograms."
   ]
  },
  {
   "cell_type": "code",
   "execution_count": null,
   "id": "99e1b336",
   "metadata": {},
   "outputs": [],
   "source": [
    "# import our usual friends\n",
    "from skimage.io import imread, imsave\n",
    "import matplotlib.pylab as plt\n",
    "import numpy as np\n",
    "import skimage.data as examples\n",
    "from skimage.color import rgb2gray"
   ]
  },
  {
   "cell_type": "code",
   "execution_count": null,
   "id": "019b29e1",
   "metadata": {},
   "outputs": [],
   "source": [
    "#img = rgb2gray(examples.astronaut())\n",
    "img = examples.camera()"
   ]
  },
  {
   "cell_type": "code",
   "execution_count": null,
   "id": "279fd997",
   "metadata": {},
   "outputs": [],
   "source": [
    "plt.gray()\n",
    "plt.imshow(img)\n",
    "plt.title(f\"original image with maximum intensity {np.max(img)}\")\n",
    "plt.colorbar()\n",
    "plt.show()"
   ]
  },
  {
   "cell_type": "code",
   "execution_count": null,
   "id": "53a6c829",
   "metadata": {},
   "outputs": [],
   "source": [
    "ax = plt.hist(img.ravel(), bins = 256)\n",
    "plt.show()"
   ]
  },
  {
   "cell_type": "code",
   "execution_count": null,
   "id": "ccd38d4e",
   "metadata": {},
   "outputs": [],
   "source": [
    "binary_image = (img<30)\n",
    "\n",
    "plt.imshow(binary_image)\n",
    "plt.colorbar()"
   ]
  },
  {
   "cell_type": "code",
   "execution_count": null,
   "id": "bf63aac8",
   "metadata": {},
   "outputs": [],
   "source": [
    "np.sum(binary_image)"
   ]
  },
  {
   "cell_type": "code",
   "execution_count": null,
   "id": "a29265fe",
   "metadata": {},
   "outputs": [],
   "source": []
  }
 ],
 "metadata": {
  "kernelspec": {
   "display_name": "Python 3",
   "language": "python",
   "name": "python3"
  },
  "language_info": {
   "codemirror_mode": {
    "name": "ipython",
    "version": 3
   },
   "file_extension": ".py",
   "mimetype": "text/x-python",
   "name": "python",
   "nbconvert_exporter": "python",
   "pygments_lexer": "ipython3",
   "version": "3.8.0"
  }
 },
 "nbformat": 4,
 "nbformat_minor": 5
}

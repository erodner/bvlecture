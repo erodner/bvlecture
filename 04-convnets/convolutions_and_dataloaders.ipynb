{
 "cells": [
  {
   "cell_type": "markdown",
   "id": "be3ad53c",
   "metadata": {},
   "source": [
    "<img style=\"float: right;\" src=\"../htwlogo.jpg\">\n",
    "\n",
    "# Convolutions and Dataloaders\n",
    "\n",
    "**Author**: _Erik Rodner_ <br>\n",
    "**Lecture**: Computer Vision and Machine Learning I\n",
    "\n",
    "In the following notebook, we show the output of typical layers in a convolutional neural network. Furthermore, we get introduced to a predefined data loader."
   ]
  },
  {
   "cell_type": "code",
   "execution_count": null,
   "id": "3c59a71c",
   "metadata": {},
   "outputs": [],
   "source": [
    "# import some dependencies\n",
    "import torchvision\n",
    "import torch\n",
    "import torchvision.transforms as transforms\n",
    "import numpy as np\n",
    "import matplotlib.pyplot as plt\n",
    "\n",
    "import torch.optim as optim\n",
    "import time\n",
    "import torch.nn as nn\n",
    "import torch.nn.functional as F\n",
    "from PIL import Image\n",
    "from collections import OrderedDict\n",
    "torch.set_printoptions(linewidth=120)\n",
    "from torchvision.datasets import CIFAR10"
   ]
  },
  {
   "cell_type": "markdown",
   "id": "5b2e198d",
   "metadata": {},
   "source": [
    "### Defining the dataset and the data loader\n",
    "\n",
    "We will use a predefined data loader from pytorch to get some relevant images."
   ]
  },
  {
   "cell_type": "code",
   "execution_count": null,
   "id": "a730d05b",
   "metadata": {},
   "outputs": [],
   "source": [
    "train_dataset = CIFAR10 (root=\"./cifar10\",\n",
    "                         train=True, \n",
    "                         download=True, \n",
    "                         transform=transforms.Compose([transforms.ToTensor()]))"
   ]
  },
  {
   "cell_type": "code",
   "execution_count": null,
   "id": "ab960425",
   "metadata": {},
   "outputs": [],
   "source": [
    "train_data_loader = torch.utils.data.DataLoader(train_dataset, batch_size=1, num_workers=0)"
   ]
  },
  {
   "cell_type": "markdown",
   "id": "5d380b9b",
   "metadata": {},
   "source": [
    "Get a first single image from the data loader."
   ]
  },
  {
   "cell_type": "code",
   "execution_count": null,
   "id": "4729382c",
   "metadata": {},
   "outputs": [],
   "source": [
    "input_batch, labels = next(iter(train_data_loader))"
   ]
  },
  {
   "cell_type": "markdown",
   "id": "34f19b20",
   "metadata": {},
   "source": [
    "### Convolution operation\n",
    "\n",
    "Let's define a $3 \\times 3 \\times 3$ mean filter as a convolutional layer, i.e. a filter size of 3 in $x$, in $y$ as well as across the channels."
   ]
  },
  {
   "cell_type": "code",
   "execution_count": null,
   "id": "7bd5e6c0",
   "metadata": {},
   "outputs": [],
   "source": [
    "conv_parameters = torch.ones((1,3,3,3))/27\n",
    "conv_result = F.conv2d(input_batch, weight=conv_parameters)"
   ]
  },
  {
   "cell_type": "code",
   "execution_count": null,
   "id": "b2cdf7d7",
   "metadata": {},
   "outputs": [],
   "source": [
    "input_pil = transforms.ToPILImage()(input_batch[0,...])\n",
    "conv_result_np = np.array(conv_result[0,0,...])\n",
    "plt.figure()\n",
    "plt.subplot(1,2,1)\n",
    "plt.imshow(input_pil)\n",
    "plt.subplot(1,2,2)\n",
    "plt.imshow(conv_result_np, cmap=plt.cm.gray)"
   ]
  },
  {
   "cell_type": "markdown",
   "id": "177bbe11",
   "metadata": {},
   "source": [
    "### Maximum pooling operation\n",
    "\n",
    "We now visualize the result of a maximum pooling operation. This is a non-linear filter operation and could be for example also used to reduce impulse noise of a certain kind."
   ]
  },
  {
   "cell_type": "code",
   "execution_count": null,
   "id": "fbde47f3",
   "metadata": {},
   "outputs": [],
   "source": [
    "pooling_result = F.max_pool2d(input_batch, kernel_size=2, stride=2)"
   ]
  },
  {
   "cell_type": "code",
   "execution_count": null,
   "id": "8f4cc845",
   "metadata": {},
   "outputs": [],
   "source": [
    "plt.figure(figsize=(15,10))\n",
    "plt.subplot(1,4,1)\n",
    "plt.imshow(input_pil)\n",
    "for i in range(3):\n",
    "    plt.subplot(1,4,i+2)\n",
    "    pooling_result_np = np.array(pooling_result[0,i,...])\n",
    "    plt.imshow(pooling_result_np, cmap=plt.cm.gray)\n",
    "    plt.title(f\"channel {i} of the max-pool result\")"
   ]
  },
  {
   "cell_type": "code",
   "execution_count": null,
   "id": "cbd603dc",
   "metadata": {},
   "outputs": [],
   "source": []
  }
 ],
 "metadata": {
  "kernelspec": {
   "display_name": "Python 3",
   "language": "python",
   "name": "python3"
  },
  "language_info": {
   "codemirror_mode": {
    "name": "ipython",
    "version": 3
   },
   "file_extension": ".py",
   "mimetype": "text/x-python",
   "name": "python",
   "nbconvert_exporter": "python",
   "pygments_lexer": "ipython3",
   "version": "3.8.0"
  }
 },
 "nbformat": 4,
 "nbformat_minor": 5
}
